{
 "cells": [
  {
   "cell_type": "code",
   "execution_count": 52,
   "metadata": {},
   "outputs": [],
   "source": [
    "import pandas as pd\n",
    "import numpy as np\n",
    "old=pd.read_excel('excel_old.xlsx')\n",
    "new=pd.read_excel('excel_new.xlsx')\n",
    "final=pd.read_excel('excel_new.xlsx')"
   ]
  },
  {
   "cell_type": "code",
   "execution_count": 53,
   "metadata": {},
   "outputs": [
    {
     "name": "stdout",
     "output_type": "stream",
     "text": [
      "[[ True  True  True False False  True]\n",
      " [ True  True  True False False  True]\n",
      " [ True  True False False False False]\n",
      " [ True  True False False False  True]\n",
      " [ True  True False False False  True]\n",
      " [ True  True False False False False]\n",
      " [ True  True  True  True  True  True]]\n"
     ]
    }
   ],
   "source": [
    "comparison_values = old.values == new.values\n",
    "print (comparison_values)"
   ]
  },
  {
   "cell_type": "code",
   "execution_count": 54,
   "metadata": {},
   "outputs": [],
   "source": [
    "\n",
    "rows,cols=np.where(comparison_values==False)"
   ]
  },
  {
   "cell_type": "code",
   "execution_count": 55,
   "metadata": {},
   "outputs": [
    {
     "data": {
      "text/plain": [
       "array([0, 0, 1, 1, 2, 2, 2, 2, 3, 3, 3, 4, 4, 4, 5, 5, 5, 5], dtype=int64)"
      ]
     },
     "execution_count": 55,
     "metadata": {},
     "output_type": "execute_result"
    }
   ],
   "source": [
    "rows\n"
   ]
  },
  {
   "cell_type": "code",
   "execution_count": 49,
   "metadata": {},
   "outputs": [
    {
     "data": {
      "text/plain": [
       "array([3, 4, 3, 4, 2, 3, 4, 5, 2, 3, 4, 2, 3, 4, 2, 3, 4, 5], dtype=int64)"
      ]
     },
     "execution_count": 49,
     "metadata": {},
     "output_type": "execute_result"
    }
   ],
   "source": [
    "cols"
   ]
  },
  {
   "cell_type": "code",
   "execution_count": null,
   "metadata": {},
   "outputs": [],
   "source": []
  },
  {
   "cell_type": "code",
   "execution_count": null,
   "metadata": {},
   "outputs": [],
   "source": []
  },
  {
   "cell_type": "code",
   "execution_count": 50,
   "metadata": {},
   "outputs": [],
   "source": [
    "for item in zip(rows,cols):\n",
    "    final.iloc[item[0], item[1]] = '{}'.format(new.iloc[item[0], item[1]]-old.iloc[item[0], item[1]])"
   ]
  },
  {
   "cell_type": "code",
   "execution_count": 51,
   "metadata": {},
   "outputs": [
    {
     "data": {
      "text/html": [
       "<div>\n",
       "<style scoped>\n",
       "    .dataframe tbody tr th:only-of-type {\n",
       "        vertical-align: middle;\n",
       "    }\n",
       "\n",
       "    .dataframe tbody tr th {\n",
       "        vertical-align: top;\n",
       "    }\n",
       "\n",
       "    .dataframe thead th {\n",
       "        text-align: right;\n",
       "    }\n",
       "</style>\n",
       "<table border=\"1\" class=\"dataframe\">\n",
       "  <thead>\n",
       "    <tr style=\"text-align: right;\">\n",
       "      <th></th>\n",
       "      <th>unique id</th>\n",
       "      <th>data point</th>\n",
       "      <th>2020</th>\n",
       "      <th>2021</th>\n",
       "      <th>2022</th>\n",
       "      <th>2023</th>\n",
       "    </tr>\n",
       "  </thead>\n",
       "  <tbody>\n",
       "    <tr>\n",
       "      <td>0</td>\n",
       "      <td>abc --&gt; abc</td>\n",
       "      <td>var_a --&gt; var_a</td>\n",
       "      <td>0</td>\n",
       "      <td>21</td>\n",
       "      <td>48</td>\n",
       "      <td>0</td>\n",
       "    </tr>\n",
       "    <tr>\n",
       "      <td>1</td>\n",
       "      <td>abc --&gt; abc</td>\n",
       "      <td>var_b --&gt; var_b</td>\n",
       "      <td>0</td>\n",
       "      <td>21</td>\n",
       "      <td>-45</td>\n",
       "      <td>0</td>\n",
       "    </tr>\n",
       "    <tr>\n",
       "      <td>2</td>\n",
       "      <td>def --&gt; def</td>\n",
       "      <td>var_a --&gt; var_a</td>\n",
       "      <td>53</td>\n",
       "      <td>11</td>\n",
       "      <td>200</td>\n",
       "      <td>12</td>\n",
       "    </tr>\n",
       "    <tr>\n",
       "      <td>3</td>\n",
       "      <td>def --&gt; def</td>\n",
       "      <td>var_b --&gt; var_b</td>\n",
       "      <td>45</td>\n",
       "      <td>-23</td>\n",
       "      <td>33</td>\n",
       "      <td>0</td>\n",
       "    </tr>\n",
       "    <tr>\n",
       "      <td>4</td>\n",
       "      <td>ghi --&gt; ghi</td>\n",
       "      <td>var_a --&gt; var_a</td>\n",
       "      <td>12</td>\n",
       "      <td>11</td>\n",
       "      <td>32</td>\n",
       "      <td>0</td>\n",
       "    </tr>\n",
       "    <tr>\n",
       "      <td>5</td>\n",
       "      <td>ghi --&gt; ghi</td>\n",
       "      <td>var_b --&gt; var_b</td>\n",
       "      <td>1</td>\n",
       "      <td>19</td>\n",
       "      <td>28</td>\n",
       "      <td>39</td>\n",
       "    </tr>\n",
       "    <tr>\n",
       "      <td>6</td>\n",
       "      <td>jkl --&gt; jkl</td>\n",
       "      <td>var_a --&gt; var_a</td>\n",
       "      <td>0</td>\n",
       "      <td>0</td>\n",
       "      <td>0</td>\n",
       "      <td>0</td>\n",
       "    </tr>\n",
       "  </tbody>\n",
       "</table>\n",
       "</div>"
      ],
      "text/plain": [
       "     unique id       data point 2020 2021 2022 2023\n",
       "0  abc --> abc  var_a --> var_a    0   21   48    0\n",
       "1  abc --> abc  var_b --> var_b    0   21  -45    0\n",
       "2  def --> def  var_a --> var_a   53   11  200   12\n",
       "3  def --> def  var_b --> var_b   45  -23   33    0\n",
       "4  ghi --> ghi  var_a --> var_a   12   11   32    0\n",
       "5  ghi --> ghi  var_b --> var_b    1   19   28   39\n",
       "6  jkl --> jkl  var_a --> var_a    0    0    0    0"
      ]
     },
     "execution_count": 51,
     "metadata": {},
     "output_type": "execute_result"
    }
   ],
   "source": [
    "final"
   ]
  },
  {
   "cell_type": "code",
   "execution_count": 29,
   "metadata": {},
   "outputs": [],
   "source": [
    "rows1,cols1=np.where(comparison_values==True)"
   ]
  },
  {
   "cell_type": "code",
   "execution_count": 43,
   "metadata": {},
   "outputs": [],
   "source": [
    "for item in zip(rows1,cols1):\n",
    "    if (type(old.iloc[item[0],item[1]])!=str):\n",
    "        final.iloc[item[0], item[1]] = '{}'.format(old.iloc[item[0], item[1]]-new.iloc[item[0], item[1]])"
   ]
  },
  {
   "cell_type": "code",
   "execution_count": 44,
   "metadata": {},
   "outputs": [
    {
     "data": {
      "text/html": [
       "<div>\n",
       "<style scoped>\n",
       "    .dataframe tbody tr th:only-of-type {\n",
       "        vertical-align: middle;\n",
       "    }\n",
       "\n",
       "    .dataframe tbody tr th {\n",
       "        vertical-align: top;\n",
       "    }\n",
       "\n",
       "    .dataframe thead th {\n",
       "        text-align: right;\n",
       "    }\n",
       "</style>\n",
       "<table border=\"1\" class=\"dataframe\">\n",
       "  <thead>\n",
       "    <tr style=\"text-align: right;\">\n",
       "      <th></th>\n",
       "      <th>unique id</th>\n",
       "      <th>data point</th>\n",
       "      <th>2020</th>\n",
       "      <th>2021</th>\n",
       "      <th>2022</th>\n",
       "      <th>2023</th>\n",
       "    </tr>\n",
       "  </thead>\n",
       "  <tbody>\n",
       "    <tr>\n",
       "      <td>0</td>\n",
       "      <td>abc --&gt; abc</td>\n",
       "      <td>var_a --&gt; var_a</td>\n",
       "      <td>0</td>\n",
       "      <td>21</td>\n",
       "      <td>48</td>\n",
       "      <td>0</td>\n",
       "    </tr>\n",
       "    <tr>\n",
       "      <td>1</td>\n",
       "      <td>abc --&gt; abc</td>\n",
       "      <td>var_b --&gt; var_b</td>\n",
       "      <td>0</td>\n",
       "      <td>21</td>\n",
       "      <td>-45</td>\n",
       "      <td>0</td>\n",
       "    </tr>\n",
       "    <tr>\n",
       "      <td>2</td>\n",
       "      <td>def --&gt; def</td>\n",
       "      <td>var_a --&gt; var_a</td>\n",
       "      <td>53</td>\n",
       "      <td>11</td>\n",
       "      <td>200</td>\n",
       "      <td>12</td>\n",
       "    </tr>\n",
       "    <tr>\n",
       "      <td>3</td>\n",
       "      <td>def --&gt; def</td>\n",
       "      <td>var_b --&gt; var_b</td>\n",
       "      <td>45</td>\n",
       "      <td>-23</td>\n",
       "      <td>33</td>\n",
       "      <td>0</td>\n",
       "    </tr>\n",
       "    <tr>\n",
       "      <td>4</td>\n",
       "      <td>ghi --&gt; ghi</td>\n",
       "      <td>var_a --&gt; var_a</td>\n",
       "      <td>12</td>\n",
       "      <td>11</td>\n",
       "      <td>32</td>\n",
       "      <td>0</td>\n",
       "    </tr>\n",
       "    <tr>\n",
       "      <td>5</td>\n",
       "      <td>ghi --&gt; ghi</td>\n",
       "      <td>var_b --&gt; var_b</td>\n",
       "      <td>1</td>\n",
       "      <td>19</td>\n",
       "      <td>28</td>\n",
       "      <td>39</td>\n",
       "    </tr>\n",
       "    <tr>\n",
       "      <td>6</td>\n",
       "      <td>jkl --&gt; jkl</td>\n",
       "      <td>var_a --&gt; var_a</td>\n",
       "      <td>0</td>\n",
       "      <td>0</td>\n",
       "      <td>0</td>\n",
       "      <td>0</td>\n",
       "    </tr>\n",
       "  </tbody>\n",
       "</table>\n",
       "</div>"
      ],
      "text/plain": [
       "     unique id       data point 2020 2021 2022 2023\n",
       "0  abc --> abc  var_a --> var_a    0   21   48    0\n",
       "1  abc --> abc  var_b --> var_b    0   21  -45    0\n",
       "2  def --> def  var_a --> var_a   53   11  200   12\n",
       "3  def --> def  var_b --> var_b   45  -23   33    0\n",
       "4  ghi --> ghi  var_a --> var_a   12   11   32    0\n",
       "5  ghi --> ghi  var_b --> var_b    1   19   28   39\n",
       "6  jkl --> jkl  var_a --> var_a    0    0    0    0"
      ]
     },
     "execution_count": 44,
     "metadata": {},
     "output_type": "execute_result"
    }
   ],
   "source": [
    "final"
   ]
  },
  {
   "cell_type": "code",
   "execution_count": null,
   "metadata": {},
   "outputs": [],
   "source": []
  }
 ],
 "metadata": {
  "kernelspec": {
   "display_name": "Python 3",
   "language": "python",
   "name": "python3"
  },
  "language_info": {
   "codemirror_mode": {
    "name": "ipython",
    "version": 3
   },
   "file_extension": ".py",
   "mimetype": "text/x-python",
   "name": "python",
   "nbconvert_exporter": "python",
   "pygments_lexer": "ipython3",
   "version": "3.7.4"
  }
 },
 "nbformat": 4,
 "nbformat_minor": 2
}
