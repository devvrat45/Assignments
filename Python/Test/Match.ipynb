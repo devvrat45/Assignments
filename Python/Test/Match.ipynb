{
 "cells": [
  {
   "cell_type": "code",
   "execution_count": 2,
   "metadata": {},
   "outputs": [],
   "source": [
    "dicta= {'IND':0,'WID':0,'AUS':0,'PAK':0}\n",
    "dictb= {'SA':0,'SRL':0,'CAN':0,'NWZ':0}\n",
    "dictc= {'ENG':0,'BAN':0,'NEH':0,'USA':0}\n",
    "dictd= {'ZIM':0,'IRE':0,'SCO':0,'CHI':0}"
   ]
  },
  {
   "cell_type": "code",
   "execution_count": null,
   "metadata": {},
   "outputs": [],
   "source": [
    "def playing match():\n",
    "    for k in "
   ]
  }
 ],
 "metadata": {
  "kernelspec": {
   "display_name": "Python 3",
   "language": "python",
   "name": "python3"
  },
  "language_info": {
   "codemirror_mode": {
    "name": "ipython",
    "version": 3
   },
   "file_extension": ".py",
   "mimetype": "text/x-python",
   "name": "python",
   "nbconvert_exporter": "python",
   "pygments_lexer": "ipython3",
   "version": "3.7.4"
  }
 },
 "nbformat": 4,
 "nbformat_minor": 2
}
