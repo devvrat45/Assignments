{
 "cells": [
  {
   "cell_type": "code",
   "execution_count": 80,
   "metadata": {},
   "outputs": [],
   "source": [
    "import math\n",
    "def solve_quad(equation):\n",
    "    listx=[]\n",
    "    for i in range(0,len(equation)):\n",
    "        if equation[i] == '+' or equation[i] == '-' or equation[i] == '=': # elemination +,-,= from the equation\n",
    "            pass\n",
    "        else:\n",
    "             listx.append(equation[i]) # appending the non operand elements in a list\n",
    " \n",
    "    strx = ''.join(listx) # converting a list into string\n",
    " \n",
    "    listy = strx.split('x') # splitting the string while taking x as the splitter\n",
    "   \n",
    "    a=listy[0]    # getting the constant of x2(a)\n",
    "    b=listy[1][1:] # getting the constant of x(b)\n",
    "    c=listy[2][:-1] # getting the constant(c)\n",
    "    a=int(a)\n",
    "    b=int(b)\n",
    "    c=int(c)\n",
    "   \n",
    "   # calaculating the roots \n",
    "    sqrt1= (b+ math.sqrt(b*b-(4*a*c)))/2*a \n",
    "    sqrt2= (b- math.sqrt(b*b-(4*a*c)))/2*a\n",
    "    print(\"The square roots are as fallows:\",sqrt1,sqrt2)         \n",
    "                \n",
    "                \n",
    "                                                                                                                                                                                                                                                                                                                                                                                                                                             \n",
    "    "
   ]
  },
  {
   "cell_type": "code",
   "execution_count": 81,
   "metadata": {},
   "outputs": [],
   "source": [
    "def take_input(): # A function to input values from the user and solve it.\n",
    "    quad=input(\"Enter equation\")\n",
    "    solve_quad(quad) # a  function to solve the quadratic equation"
   ]
  },
  {
   "cell_type": "code",
   "execution_count": 82,
   "metadata": {},
   "outputs": [
    {
     "name": "stdout",
     "output_type": "stream",
     "text": [
      "Enter equation2x2+10x+10=0\n",
      "2x210x100\n",
      "['2', '210', '100']\n",
      "2\n",
      "10\n",
      "10\n",
      "The square roots are as fallows: 14.47213595499958 5.52786404500042\n"
     ]
    }
   ],
   "source": [
    "take_input()"
   ]
  },
  {
   "cell_type": "code",
   "execution_count": null,
   "metadata": {},
   "outputs": [],
   "source": []
  }
 ],
 "metadata": {
  "kernelspec": {
   "display_name": "Python 3",
   "language": "python",
   "name": "python3"
  },
  "language_info": {
   "codemirror_mode": {
    "name": "ipython",
    "version": 3
   },
   "file_extension": ".py",
   "mimetype": "text/x-python",
   "name": "python",
   "nbconvert_exporter": "python",
   "pygments_lexer": "ipython3",
   "version": "3.7.4"
  }
 },
 "nbformat": 4,
 "nbformat_minor": 2
}
