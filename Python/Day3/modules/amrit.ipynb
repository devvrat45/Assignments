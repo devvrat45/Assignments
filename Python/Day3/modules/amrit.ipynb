{
 "cells": [
  {
   "cell_type": "code",
   "execution_count": 2,
   "metadata": {},
   "outputs": [
    {
     "name": "stdout",
     "output_type": "stream",
     "text": [
      "amrit's specail green\n",
      "__main__\n"
     ]
    }
   ],
   "source": [
    "#!/usr/bin/env python\n",
    "# coding: utf-8\n",
    "\n",
    "# In[1]:\n",
    "\n",
    "\n",
    "\"\"\"nector is green in colour\n",
    "please go green\"\"\"\n",
    "\n",
    "\n",
    "# In[2]:\n",
    "\n",
    "\n",
    "print(\"amrit's specail green\")\n",
    "\n",
    "\n",
    "# In[3]:\n",
    "\n",
    "\n",
    "def green():\n",
    "    print(\"in the green\")\n",
    "\n",
    "\n",
    "# In[4]:\n",
    "\n",
    "\n",
    "#    __name__ = \"amrit\"\n",
    "\n",
    "\n",
    "# In[5]:\n",
    "\n",
    "\n",
    "print(__name__)\n",
    "\n",
    "\n",
    "# In[6]:\n",
    "\n",
    "\n",
    "if __name__ == \"__main__\":\n",
    "    def peach():\n",
    "        print('peach is a fruit')\n",
    "\n",
    "\n",
    "# In[7]:\n",
    "\n",
    "\n",
    "#peach()\n",
    "\n",
    "\n"
   ]
  },
  {
   "cell_type": "code",
   "execution_count": null,
   "metadata": {},
   "outputs": [],
   "source": []
  }
 ],
 "metadata": {
  "kernelspec": {
   "display_name": "Python 3",
   "language": "python",
   "name": "python3"
  },
  "language_info": {
   "codemirror_mode": {
    "name": "ipython",
    "version": 3
   },
   "file_extension": ".py",
   "mimetype": "text/x-python",
   "name": "python",
   "nbconvert_exporter": "python",
   "pygments_lexer": "ipython3",
   "version": "3.7.4"
  }
 },
 "nbformat": 4,
 "nbformat_minor": 2
}
