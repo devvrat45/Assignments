{
 "cells": [
  {
   "cell_type": "code",
   "execution_count": 2,
   "metadata": {},
   "outputs": [],
   "source": [
    "# 1\n",
    "def sum_avg(num1, num2):\n",
    "    summ= num1+num2\n",
    "    print(\"The sum of two numbers is:\", summ)\n",
    "    print(\"The averega is:\",int(summ/2))\n",
    "    "
   ]
  },
  {
   "cell_type": "markdown",
   "metadata": {},
   "source": []
  },
  {
   "cell_type": "code",
   "execution_count": 3,
   "metadata": {},
   "outputs": [
    {
     "name": "stdout",
     "output_type": "stream",
     "text": [
      "The sum of two numbers is: 65\n",
      "The averega is: 32\n"
     ]
    }
   ],
   "source": [
    "sum_avg(45,20)"
   ]
  },
  {
   "cell_type": "code",
   "execution_count": 6,
   "metadata": {},
   "outputs": [],
   "source": [
    "#2\n",
    "def print_elements_of_list(lista):\n",
    "    for num in lista:\n",
    "        if num <5:\n",
    "            print(num)"
   ]
  },
  {
   "cell_type": "code",
   "execution_count": 7,
   "metadata": {},
   "outputs": [],
   "source": [
    "listb=[1,6,3,7,3,9,2]"
   ]
  },
  {
   "cell_type": "code",
   "execution_count": 8,
   "metadata": {},
   "outputs": [
    {
     "name": "stdout",
     "output_type": "stream",
     "text": [
      "1\n",
      "3\n",
      "3\n",
      "2\n"
     ]
    }
   ],
   "source": [
    "print_elements_of_list(listb)"
   ]
  },
  {
   "cell_type": "code",
   "execution_count": 9,
   "metadata": {},
   "outputs": [],
   "source": [
    "#3\n",
    "def odd_even(num1):\n",
    "    if num1%2 ==0:\n",
    "        if num1%10==0:\n",
    "            print(\"Divisible by 10\")\n",
    "        print(\"even\")\n",
    "    else:\n",
    "        print(\"odd\")\n",
    "        \n",
    "        "
   ]
  },
  {
   "cell_type": "code",
   "execution_count": 10,
   "metadata": {},
   "outputs": [
    {
     "name": "stdout",
     "output_type": "stream",
     "text": [
      "odd\n"
     ]
    }
   ],
   "source": [
    "odd_even(5)"
   ]
  },
  {
   "cell_type": "code",
   "execution_count": 11,
   "metadata": {},
   "outputs": [
    {
     "name": "stdout",
     "output_type": "stream",
     "text": [
      "Divisible by 10\n",
      "even\n"
     ]
    }
   ],
   "source": [
    "odd_even(10)"
   ]
  },
  {
   "cell_type": "code",
   "execution_count": 12,
   "metadata": {},
   "outputs": [
    {
     "name": "stdout",
     "output_type": "stream",
     "text": [
      "even\n"
     ]
    }
   ],
   "source": [
    "odd_even(6)"
   ]
  },
  {
   "cell_type": "code",
   "execution_count": 13,
   "metadata": {},
   "outputs": [],
   "source": [
    "#4\n",
    "def product(num1,num2):\n",
    "    prod=num1*num2\n",
    "    if prod >500:\n",
    "        print(\"Sum of numbers is:\", num1+num2)\n",
    "    else:\n",
    "        print(\"Product of numbers is:\", prod)"
   ]
  },
  {
   "cell_type": "code",
   "execution_count": 14,
   "metadata": {},
   "outputs": [
    {
     "name": "stdout",
     "output_type": "stream",
     "text": [
      "Sum of numbers is: 122\n"
     ]
    }
   ],
   "source": [
    "product(35,87)"
   ]
  },
  {
   "cell_type": "code",
   "execution_count": 15,
   "metadata": {},
   "outputs": [],
   "source": [
    "#5\n",
    "def iterate():\n",
    "    for i in range(4,21):\n",
    "        print(\"the sum of current number:\",i,\"and previous number\",i-1,\"is:\",i+(i-1))"
   ]
  },
  {
   "cell_type": "code",
   "execution_count": 16,
   "metadata": {},
   "outputs": [
    {
     "name": "stdout",
     "output_type": "stream",
     "text": [
      "the sum of current number: 4 and previous number 3 is: 7\n",
      "the sum of current number: 5 and previous number 4 is: 9\n",
      "the sum of current number: 6 and previous number 5 is: 11\n",
      "the sum of current number: 7 and previous number 6 is: 13\n",
      "the sum of current number: 8 and previous number 7 is: 15\n",
      "the sum of current number: 9 and previous number 8 is: 17\n",
      "the sum of current number: 10 and previous number 9 is: 19\n",
      "the sum of current number: 11 and previous number 10 is: 21\n",
      "the sum of current number: 12 and previous number 11 is: 23\n",
      "the sum of current number: 13 and previous number 12 is: 25\n",
      "the sum of current number: 14 and previous number 13 is: 27\n",
      "the sum of current number: 15 and previous number 14 is: 29\n",
      "the sum of current number: 16 and previous number 15 is: 31\n",
      "the sum of current number: 17 and previous number 16 is: 33\n",
      "the sum of current number: 18 and previous number 17 is: 35\n",
      "the sum of current number: 19 and previous number 18 is: 37\n",
      "the sum of current number: 20 and previous number 19 is: 39\n"
     ]
    }
   ],
   "source": [
    "iterate()"
   ]
  },
  {
   "cell_type": "code",
   "execution_count": 17,
   "metadata": {},
   "outputs": [],
   "source": [
    "#6\n",
    "def check_vowel(var):\n",
    "    if var == 'a' or var == 'e' or var == 'i' or var == 'o' or var == 'u':\n",
    "        print(\"The given letter is vowel\")\n",
    "    else:\n",
    "        print(\"The given letter is not a vowel\")\n",
    "        "
   ]
  },
  {
   "cell_type": "code",
   "execution_count": 18,
   "metadata": {},
   "outputs": [
    {
     "name": "stdout",
     "output_type": "stream",
     "text": [
      "The given letter is vowel\n"
     ]
    }
   ],
   "source": [
    "check_vowel('e')"
   ]
  },
  {
   "cell_type": "code",
   "execution_count": 19,
   "metadata": {},
   "outputs": [
    {
     "name": "stdout",
     "output_type": "stream",
     "text": [
      "The given letter is not a vowel\n"
     ]
    }
   ],
   "source": [
    "check_vowel(\"q\")"
   ]
  },
  {
   "cell_type": "code",
   "execution_count": 22,
   "metadata": {},
   "outputs": [],
   "source": [
    "#7\n",
    "def even_index(str):\n",
    "    for i in range(2,len(str),2):\n",
    "        print(str[i])"
   ]
  },
  {
   "cell_type": "code",
   "execution_count": 23,
   "metadata": {},
   "outputs": [
    {
     "name": "stdout",
     "output_type": "stream",
     "text": [
      "l\n",
      "o\n",
      "w\n",
      "r\n",
      "d\n"
     ]
    }
   ],
   "source": [
    "even_index(\"hello world\")"
   ]
  },
  {
   "cell_type": "code",
   "execution_count": 24,
   "metadata": {},
   "outputs": [],
   "source": [
    "#9\n",
    "def List_divisible(lista):\n",
    "    for num in lista:\n",
    "        if num %10 ==0:\n",
    "            print(num)"
   ]
  },
  {
   "cell_type": "code",
   "execution_count": 25,
   "metadata": {},
   "outputs": [],
   "source": [
    "listb=[5,60,10,70,45,6,8,9]"
   ]
  },
  {
   "cell_type": "code",
   "execution_count": 26,
   "metadata": {},
   "outputs": [
    {
     "name": "stdout",
     "output_type": "stream",
     "text": [
      "60\n",
      "10\n",
      "70\n"
     ]
    }
   ],
   "source": [
    "List_divisible(listb)"
   ]
  },
  {
   "cell_type": "code",
   "execution_count": 27,
   "metadata": {},
   "outputs": [],
   "source": [
    "#10\n",
    "def first_last(lista):\n",
    "    if lista[0] == lista[-1]:\n",
    "        print(\"The first and last elements are same\")\n",
    "    else:\n",
    "        print(\"Elements are not same\")\n",
    "        "
   ]
  },
  {
   "cell_type": "code",
   "execution_count": 28,
   "metadata": {},
   "outputs": [
    {
     "name": "stdout",
     "output_type": "stream",
     "text": [
      "Elements are not same\n"
     ]
    }
   ],
   "source": [
    "first_last(listb)"
   ]
  },
  {
   "cell_type": "code",
   "execution_count": 136,
   "metadata": {},
   "outputs": [
    {
     "data": {
      "text/plain": [
       "[1, 4, 64, 7, 35, 1, 2]"
      ]
     },
     "execution_count": 136,
     "metadata": {},
     "output_type": "execute_result"
    }
   ],
   "source": [
    "listc=[1,4,64,7,35,1,2]\n",
    "listc"
   ]
  },
  {
   "cell_type": "code",
   "execution_count": 30,
   "metadata": {},
   "outputs": [
    {
     "name": "stdout",
     "output_type": "stream",
     "text": [
      "The first and last elements are same\n"
     ]
    }
   ],
   "source": [
    "first_last(listc)"
   ]
  },
  {
   "cell_type": "code",
   "execution_count": 84,
   "metadata": {},
   "outputs": [],
   "source": [
    "#11\n",
    "def replace_space(str):\n",
    "    sty=str.replace(' ','_')\n",
    "    print(sty)\n",
    " \n",
    "      \n",
    "     \n",
    "            "
   ]
  },
  {
   "cell_type": "code",
   "execution_count": 85,
   "metadata": {},
   "outputs": [
    {
     "name": "stdout",
     "output_type": "stream",
     "text": [
      "hello_world\n"
     ]
    }
   ],
   "source": [
    "str=\"hello world\"\n",
    "replace_space(str)"
   ]
  },
  {
   "cell_type": "code",
   "execution_count": 86,
   "metadata": {},
   "outputs": [
    {
     "data": {
      "text/plain": [
       "'hello world'"
      ]
     },
     "execution_count": 86,
     "metadata": {},
     "output_type": "execute_result"
    }
   ],
   "source": [
    "str"
   ]
  },
  {
   "cell_type": "code",
   "execution_count": 88,
   "metadata": {},
   "outputs": [],
   "source": [
    "#12\n",
    "def check_pallindrome(str):\n",
    "    if str ==str[::-1]:\n",
    "        print(\"pallindrome\")\n",
    "    else:\n",
    "        print('not pallindrome')"
   ]
  },
  {
   "cell_type": "code",
   "execution_count": 89,
   "metadata": {},
   "outputs": [
    {
     "name": "stdout",
     "output_type": "stream",
     "text": [
      "pallindrome\n"
     ]
    }
   ],
   "source": [
    "check_pallindrome(\"nalan\")"
   ]
  },
  {
   "cell_type": "code",
   "execution_count": 90,
   "metadata": {},
   "outputs": [
    {
     "name": "stdout",
     "output_type": "stream",
     "text": [
      "not pallindrome\n"
     ]
    }
   ],
   "source": [
    "check_pallindrome(\"nala\")"
   ]
  },
  {
   "cell_type": "code",
   "execution_count": 108,
   "metadata": {},
   "outputs": [],
   "source": [
    "#13\n",
    "def fibonaci(num):\n",
    "    a=1\n",
    "    b=1\n",
    "    print(a,b, end=\" \")\n",
    "    for i in range(2,num):\n",
    "        c=a+b;\n",
    "        a=b\n",
    "        b=c\n",
    "        print(c,end=\" \" )\n",
    "        "
   ]
  },
  {
   "cell_type": "code",
   "execution_count": 109,
   "metadata": {},
   "outputs": [
    {
     "name": "stdout",
     "output_type": "stream",
     "text": [
      "1 1 2 3 5 8 13 21 34 55 "
     ]
    }
   ],
   "source": [
    "fibonaci(10)"
   ]
  },
  {
   "cell_type": "code",
   "execution_count": 111,
   "metadata": {},
   "outputs": [],
   "source": [
    "#14\n",
    "def middle(str,stb):\n",
    "    mid=int(len(str)/2)\n",
    "    sty=\" \"\n",
    "    sty=str[:mid]+stb+str[mid:]\n",
    "    print(sty)"
   ]
  },
  {
   "cell_type": "code",
   "execution_count": 112,
   "metadata": {},
   "outputs": [
    {
     "name": "stdout",
     "output_type": "stream",
     "text": [
      "heworldllo\n"
     ]
    }
   ],
   "source": [
    "middle(\"hello\",\"world\")"
   ]
  },
  {
   "cell_type": "code",
   "execution_count": 117,
   "metadata": {},
   "outputs": [],
   "source": [
    "#15\n",
    "def pattern():\n",
    "    for i in range(0,6):\n",
    "        for j in range(0,i+1):\n",
    "            print(j, end=\" \")\n",
    "        print()    "
   ]
  },
  {
   "cell_type": "code",
   "execution_count": 118,
   "metadata": {},
   "outputs": [
    {
     "name": "stdout",
     "output_type": "stream",
     "text": [
      "0 \n",
      "0 1 \n",
      "0 1 2 \n",
      "0 1 2 3 \n",
      "0 1 2 3 4 \n",
      "0 1 2 3 4 5 \n"
     ]
    }
   ],
   "source": [
    "pattern()"
   ]
  },
  {
   "cell_type": "code",
   "execution_count": 120,
   "metadata": {},
   "outputs": [],
   "source": [
    "#16\n",
    "def display(str):\n",
    "    length=len(str)\n",
    "    l=int((25/100)*length)\n",
    "    print(str[:l])"
   ]
  },
  {
   "cell_type": "code",
   "execution_count": 121,
   "metadata": {},
   "outputs": [
    {
     "name": "stdout",
     "output_type": "stream",
     "text": [
      "gre\n"
     ]
    }
   ],
   "source": [
    "display(\"greater good\")"
   ]
  },
  {
   "cell_type": "code",
   "execution_count": 129,
   "metadata": {},
   "outputs": [],
   "source": [
    "#17\n",
    "def some_list_func (lista):\n",
    "    lenght=int(len(lista))\n",
    "    l=int(lenght/2)\n",
    "    if lenght%2==0:\n",
    "        print((lista[l]+lista[l+1])/2)\n",
    "    else:\n",
    "        print(lista[l])"
   ]
  },
  {
   "cell_type": "code",
   "execution_count": 130,
   "metadata": {},
   "outputs": [
    {
     "name": "stdout",
     "output_type": "stream",
     "text": [
      "25.5\n"
     ]
    }
   ],
   "source": [
    "some_list_func(listb)"
   ]
  },
  {
   "cell_type": "code",
   "execution_count": 132,
   "metadata": {},
   "outputs": [
    {
     "name": "stdout",
     "output_type": "stream",
     "text": [
      "21.0\n"
     ]
    }
   ],
   "source": [
    "some_list_func(listc)"
   ]
  },
  {
   "cell_type": "code",
   "execution_count": 134,
   "metadata": {},
   "outputs": [],
   "source": [
    "#18\n",
    "def same_elements(list1,list2):\n",
    "        list3=[]\n",
    "        for var in list1:\n",
    "            if var in list2:\n",
    "                list3.append(var)\n",
    "        print(list3)        \n",
    "                "
   ]
  },
  {
   "cell_type": "code",
   "execution_count": 138,
   "metadata": {},
   "outputs": [],
   "source": [
    "listd=[1,2,4,6,7]\n",
    "liste=[4,9,0,6,7,5]"
   ]
  },
  {
   "cell_type": "code",
   "execution_count": 139,
   "metadata": {},
   "outputs": [
    {
     "name": "stdout",
     "output_type": "stream",
     "text": [
      "[4, 6, 7]\n"
     ]
    }
   ],
   "source": [
    "same_elements(listd,liste)"
   ]
  },
  {
   "cell_type": "code",
   "execution_count": 140,
   "metadata": {},
   "outputs": [],
   "source": [
    "#19\n",
    "def leap_year(year):\n",
    "    if (year % 4) == 0:\n",
    "        if (year % 100) == 0:\n",
    "            if (year % 400) == 0:\n",
    "                print(\"{0} is a leap year\".format(year))\n",
    "            else:\n",
    "                print(\"{0} is not a leap year\".format(year))\n",
    "        else:\n",
    "            print(\"{0} is a leap year\".format(year))\n",
    "    else:\n",
    "        print(\"{0} is not a leap year\".format(year))"
   ]
  },
  {
   "cell_type": "code",
   "execution_count": 141,
   "metadata": {},
   "outputs": [
    {
     "name": "stdout",
     "output_type": "stream",
     "text": [
      "2004 is a leap year\n"
     ]
    }
   ],
   "source": [
    "leap_year(2004)"
   ]
  },
  {
   "cell_type": "code",
   "execution_count": 142,
   "metadata": {},
   "outputs": [
    {
     "name": "stdout",
     "output_type": "stream",
     "text": [
      "2000 is a leap year\n"
     ]
    }
   ],
   "source": [
    "leap_year(2000)"
   ]
  },
  {
   "cell_type": "code",
   "execution_count": 230,
   "metadata": {},
   "outputs": [],
   "source": [
    "#20\n",
    "def prime(num):\n",
    "    i=2\n",
    "    k=False\n",
    "    if int(num%2)==0:\n",
    "        print(\"Not a prime\")\n",
    "    else:\n",
    "        while(i<num):\n",
    "            if num%i==0:\n",
    "                print(\"not a prime\")\n",
    "                k=False\n",
    "                break\n",
    "            else:\n",
    "                k=True;\n",
    "            i=i+1    \n",
    "    if(k==True):\n",
    "        print(\"Prime\")"
   ]
  },
  {
   "cell_type": "code",
   "execution_count": 233,
   "metadata": {},
   "outputs": [
    {
     "name": "stdout",
     "output_type": "stream",
     "text": [
      "Prime\n"
     ]
    }
   ],
   "source": [
    "prime(71)"
   ]
  },
  {
   "cell_type": "code",
   "execution_count": 259,
   "metadata": {},
   "outputs": [],
   "source": [
    "#21\n",
    "def extract_values(dict1):\n",
    "    for v in dict1.values():\n",
    "        if type(v) == dict:\n",
    "            extract_values(v)\n",
    "        else:\n",
    "            print(v)"
   ]
  },
  {
   "cell_type": "code",
   "execution_count": 260,
   "metadata": {},
   "outputs": [],
   "source": [
    "dicta ={1:'Red',2:'Blue',3:{4:'Green',5:{6:'Yellow'}}}"
   ]
  },
  {
   "cell_type": "code",
   "execution_count": 261,
   "metadata": {},
   "outputs": [
    {
     "name": "stdout",
     "output_type": "stream",
     "text": [
      "Red\n",
      "Blue\n",
      "Green\n",
      "Yellow\n"
     ]
    }
   ],
   "source": [
    "extract_values(dicta)"
   ]
  },
  {
   "cell_type": "code",
   "execution_count": 206,
   "metadata": {},
   "outputs": [],
   "source": [
    "#22\n",
    "def counting(lista):\n",
    "    count=0\n",
    "    dict1={}\n",
    "    for var in lista:\n",
    "          dict1[var]=lista.count(var)\n",
    "    print(dict1)\n",
    "    "
   ]
  },
  {
   "cell_type": "code",
   "execution_count": 207,
   "metadata": {},
   "outputs": [
    {
     "name": "stdout",
     "output_type": "stream",
     "text": [
      "{4: 1, 9: 1, 0: 1, 6: 1, 7: 1, 5: 1}\n"
     ]
    }
   ],
   "source": [
    "counting(liste)"
   ]
  },
  {
   "cell_type": "code",
   "execution_count": 220,
   "metadata": {},
   "outputs": [],
   "source": [
    "#23\n",
    "def remove_duplicate(lista):\n",
    "     return tuple(dict.fromkeys(lista))\n",
    "    "
   ]
  },
  {
   "cell_type": "code",
   "execution_count": 221,
   "metadata": {},
   "outputs": [],
   "source": [
    "tup=()\n",
    "tup=(remove_duplicate(liste))\n"
   ]
  },
  {
   "cell_type": "code",
   "execution_count": 222,
   "metadata": {},
   "outputs": [
    {
     "data": {
      "text/plain": [
       "(4, 9, 0, 6, 7, 5)"
      ]
     },
     "execution_count": 222,
     "metadata": {},
     "output_type": "execute_result"
    }
   ],
   "source": [
    "tup"
   ]
  },
  {
   "cell_type": "code",
   "execution_count": 226,
   "metadata": {},
   "outputs": [
    {
     "name": "stdout",
     "output_type": "stream",
     "text": [
      "Max: 9 Min: 0\n"
     ]
    }
   ],
   "source": [
    "print(\"Max:\",max(tup),\"Min:\",min(tup))"
   ]
  },
  {
   "cell_type": "code",
   "execution_count": 234,
   "metadata": {},
   "outputs": [],
   "source": [
    "#24\n",
    "def deposit(amt,years,interest):\n",
    "    A = amt* (1 + interest/100)**years\n",
    "    return A"
   ]
  },
  {
   "cell_type": "code",
   "execution_count": 235,
   "metadata": {},
   "outputs": [
    {
     "data": {
      "text/plain": [
       "1166.4"
      ]
     },
     "execution_count": 235,
     "metadata": {},
     "output_type": "execute_result"
    }
   ],
   "source": [
    "deposit(1000,2,8)"
   ]
  },
  {
   "cell_type": "code",
   "execution_count": null,
   "metadata": {},
   "outputs": [],
   "source": []
  }
 ],
 "metadata": {
  "kernelspec": {
   "display_name": "Python 3",
   "language": "python",
   "name": "python3"
  },
  "language_info": {
   "codemirror_mode": {
    "name": "ipython",
    "version": 3
   },
   "file_extension": ".py",
   "mimetype": "text/x-python",
   "name": "python",
   "nbconvert_exporter": "python",
   "pygments_lexer": "ipython3",
   "version": "3.7.4"
  }
 },
 "nbformat": 4,
 "nbformat_minor": 2
}
