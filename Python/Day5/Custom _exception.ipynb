{
 "cells": [
  {
   "cell_type": "code",
   "execution_count": 1,
   "metadata": {},
   "outputs": [],
   "source": [
    "class Error(Exception):\n",
    "    pass"
   ]
  },
  {
   "cell_type": "code",
   "execution_count": 2,
   "metadata": {},
   "outputs": [],
   "source": [
    "class AppError(Exception):\n",
    "    \"\"\"application based general error\"\"\""
   ]
  },
  {
   "cell_type": "code",
   "execution_count": 3,
   "metadata": {},
   "outputs": [],
   "source": [
    "class SmallValueError(AppError):\n",
    "    \"\"\"value is too small\"\"\"\n",
    "    pass\n",
    "\n",
    "class LargeValueError(AppError):\n",
    "    \"\"\"value too large\"\"\"\n",
    "    pass"
   ]
  },
  {
   "cell_type": "code",
   "execution_count": 5,
   "metadata": {},
   "outputs": [
    {
     "name": "stdout",
     "output_type": "stream",
     "text": [
      "enter a number :12\n",
      "value too large\n",
      "enter a number :1\n",
      "value too large\n",
      "enter a number :56\n",
      "value too large\n",
      "enter a number :10\n",
      "value too large\n",
      "enter a number :1\n",
      "value too large\n",
      "enter a number :12\n",
      "value too large\n",
      "enter a number :-11\n",
      "value is too small\n",
      "enter a number :-10\n",
      "congrats, you guessed it right\n"
     ]
    }
   ],
   "source": [
    "val=-10;\n",
    "while True:\n",
    "    try:\n",
    "        num = int(input('enter a number :'))\n",
    "        if(num < val):\n",
    "            raise SmallValueError\n",
    "        elif num > val:\n",
    "            raise LargeValueError\n",
    "        else:\n",
    "            break\n",
    "    except SmallValueError:\n",
    "        print(SmallValueError.__doc__)\n",
    "    except LargeValueError:\n",
    "        print(LargeValueError.__doc__)\n",
    "print('congrats, you guessed it right')"
   ]
  },
  {
   "cell_type": "code",
   "execution_count": null,
   "metadata": {},
   "outputs": [],
   "source": []
  }
 ],
 "metadata": {
  "kernelspec": {
   "display_name": "Python 3",
   "language": "python",
   "name": "python3"
  },
  "language_info": {
   "codemirror_mode": {
    "name": "ipython",
    "version": 3
   },
   "file_extension": ".py",
   "mimetype": "text/x-python",
   "name": "python",
   "nbconvert_exporter": "python",
   "pygments_lexer": "ipython3",
   "version": "3.7.4"
  }
 },
 "nbformat": 4,
 "nbformat_minor": 2
}
